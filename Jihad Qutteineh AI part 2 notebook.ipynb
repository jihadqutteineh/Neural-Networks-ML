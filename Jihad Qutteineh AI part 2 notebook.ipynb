{
 "cells": [
  {
   "cell_type": "code",
   "execution_count": 1,
   "id": "345c4da8",
   "metadata": {},
   "outputs": [],
   "source": [
    "import tensorflow as tf"
   ]
  },
  {
   "cell_type": "code",
   "execution_count": 2,
   "id": "9c41a251",
   "metadata": {},
   "outputs": [
    {
     "name": "stdout",
     "output_type": "stream",
     "text": [
      "Finsihed loading libs\n"
     ]
    }
   ],
   "source": [
    "from tensorflow import keras\n",
    "from tensorflow.keras import layers\n",
    "from keras.models import Sequential\n",
    "from keras.layers import Dense\n",
    "from keras.optimizers import SGD, Adam, Adadelta, RMSprop\n",
    "import numpy as np\n",
    "import pandas as pd\n",
    "import matplotlib.pyplot as plt \n",
    "from keras.utils.np_utils import to_categorical\n",
    "import seaborn as sns\n",
    "from keras.callbacks import EarlyStopping\n",
    "from sklearn.linear_model import LogisticRegression\n",
    "from sklearn.model_selection import cross_val_score\n",
    "print('Finsihed loading libs')"
   ]
  },
  {
   "cell_type": "code",
   "execution_count": 3,
   "id": "13bd7bb5",
   "metadata": {},
   "outputs": [
    {
     "name": "stdout",
     "output_type": "stream",
     "text": [
      "(2200, 8)\n",
      "Index(['N', 'P', 'K', 'temperature', 'humidity', 'ph', 'rainfall', 'label'], dtype='object')\n"
     ]
    }
   ],
   "source": [
    "fileName= \"crops.csv\"\n",
    "cropsDf = pd.read_csv(fileName)\n",
    "print(cropsDf.shape)\n",
    "print(cropsDf.columns)"
   ]
  },
  {
   "cell_type": "code",
   "execution_count": 4,
   "id": "526debad",
   "metadata": {},
   "outputs": [
    {
     "data": {
      "text/html": [
       "<div>\n",
       "<style scoped>\n",
       "    .dataframe tbody tr th:only-of-type {\n",
       "        vertical-align: middle;\n",
       "    }\n",
       "\n",
       "    .dataframe tbody tr th {\n",
       "        vertical-align: top;\n",
       "    }\n",
       "\n",
       "    .dataframe thead th {\n",
       "        text-align: right;\n",
       "    }\n",
       "</style>\n",
       "<table border=\"1\" class=\"dataframe\">\n",
       "  <thead>\n",
       "    <tr style=\"text-align: right;\">\n",
       "      <th></th>\n",
       "      <th>N</th>\n",
       "      <th>P</th>\n",
       "      <th>K</th>\n",
       "      <th>temperature</th>\n",
       "      <th>humidity</th>\n",
       "      <th>ph</th>\n",
       "      <th>rainfall</th>\n",
       "      <th>label</th>\n",
       "    </tr>\n",
       "  </thead>\n",
       "  <tbody>\n",
       "    <tr>\n",
       "      <th>0</th>\n",
       "      <td>90</td>\n",
       "      <td>42</td>\n",
       "      <td>43</td>\n",
       "      <td>20.879744</td>\n",
       "      <td>82.002744</td>\n",
       "      <td>6.502985</td>\n",
       "      <td>202.935536</td>\n",
       "      <td>rice</td>\n",
       "    </tr>\n",
       "    <tr>\n",
       "      <th>1</th>\n",
       "      <td>85</td>\n",
       "      <td>58</td>\n",
       "      <td>41</td>\n",
       "      <td>21.770462</td>\n",
       "      <td>80.319644</td>\n",
       "      <td>7.038096</td>\n",
       "      <td>226.655537</td>\n",
       "      <td>rice</td>\n",
       "    </tr>\n",
       "    <tr>\n",
       "      <th>2</th>\n",
       "      <td>60</td>\n",
       "      <td>55</td>\n",
       "      <td>44</td>\n",
       "      <td>23.004459</td>\n",
       "      <td>82.320763</td>\n",
       "      <td>7.840207</td>\n",
       "      <td>263.964248</td>\n",
       "      <td>rice</td>\n",
       "    </tr>\n",
       "    <tr>\n",
       "      <th>3</th>\n",
       "      <td>74</td>\n",
       "      <td>35</td>\n",
       "      <td>40</td>\n",
       "      <td>26.491096</td>\n",
       "      <td>80.158363</td>\n",
       "      <td>6.980401</td>\n",
       "      <td>242.864034</td>\n",
       "      <td>rice</td>\n",
       "    </tr>\n",
       "    <tr>\n",
       "      <th>4</th>\n",
       "      <td>78</td>\n",
       "      <td>42</td>\n",
       "      <td>42</td>\n",
       "      <td>20.130175</td>\n",
       "      <td>81.604873</td>\n",
       "      <td>7.628473</td>\n",
       "      <td>262.717340</td>\n",
       "      <td>rice</td>\n",
       "    </tr>\n",
       "  </tbody>\n",
       "</table>\n",
       "</div>"
      ],
      "text/plain": [
       "    N   P   K  temperature   humidity        ph    rainfall label\n",
       "0  90  42  43    20.879744  82.002744  6.502985  202.935536  rice\n",
       "1  85  58  41    21.770462  80.319644  7.038096  226.655537  rice\n",
       "2  60  55  44    23.004459  82.320763  7.840207  263.964248  rice\n",
       "3  74  35  40    26.491096  80.158363  6.980401  242.864034  rice\n",
       "4  78  42  42    20.130175  81.604873  7.628473  262.717340  rice"
      ]
     },
     "execution_count": 4,
     "metadata": {},
     "output_type": "execute_result"
    }
   ],
   "source": [
    "cropsDf.head()"
   ]
  },
  {
   "cell_type": "code",
   "execution_count": 5,
   "id": "2844e2a2",
   "metadata": {},
   "outputs": [],
   "source": [
    "X = cropsDf.iloc[:,:7].values\n",
    "y = cropsDf.iloc[:,7:8].values"
   ]
  },
  {
   "cell_type": "code",
   "execution_count": 6,
   "id": "8e7ba5a5",
   "metadata": {},
   "outputs": [],
   "source": [
    "from sklearn.preprocessing import StandardScaler\n",
    "sc = StandardScaler()\n",
    "X = sc.fit_transform(X)"
   ]
  },
  {
   "cell_type": "code",
   "execution_count": 7,
   "id": "bad6f67d",
   "metadata": {},
   "outputs": [],
   "source": [
    "from sklearn.preprocessing import OneHotEncoder\n",
    "ohe = OneHotEncoder()\n",
    "y = ohe.fit_transform(y).toarray()"
   ]
  },
  {
   "cell_type": "code",
   "execution_count": 8,
   "id": "a4708d8b",
   "metadata": {},
   "outputs": [],
   "source": [
    "from sklearn.model_selection import train_test_split\n",
    "X_train,X_test,y_train,y_test = train_test_split(X,y,test_size = 0.3, shuffle = True)"
   ]
  },
  {
   "cell_type": "code",
   "execution_count": 9,
   "id": "1b2fbe97",
   "metadata": {},
   "outputs": [],
   "source": [
    "model = Sequential()\n",
    "model.add(Dense(64, input_dim=7, activation=\"relu\"))\n",
    "model.add(Dense(64, activation=\"relu\"))\n",
    "model.add(Dense(22, activation=\"softmax\"))"
   ]
  },
  {
   "cell_type": "code",
   "execution_count": 10,
   "id": "623c21fd",
   "metadata": {},
   "outputs": [
    {
     "name": "stdout",
     "output_type": "stream",
     "text": [
      "Finished compiling\n",
      "Model: \"sequential\"\n",
      "_________________________________________________________________\n",
      " Layer (type)                Output Shape              Param #   \n",
      "=================================================================\n",
      " dense (Dense)               (None, 64)                512       \n",
      "                                                                 \n",
      " dense_1 (Dense)             (None, 64)                4160      \n",
      "                                                                 \n",
      " dense_2 (Dense)             (None, 22)                1430      \n",
      "                                                                 \n",
      "=================================================================\n",
      "Total params: 6,102\n",
      "Trainable params: 6,102\n",
      "Non-trainable params: 0\n",
      "_________________________________________________________________\n",
      "None\n"
     ]
    }
   ],
   "source": [
    "optimizer = Adam(learning_rate=0.001)\n",
    "model.compile(loss='categorical_crossentropy',optimizer = optimizer, metrics=['accuracy'])\n",
    "print('Finished compiling')\n",
    "print(model.summary())"
   ]
  },
  {
   "cell_type": "code",
   "execution_count": 11,
   "id": "6a7805fb",
   "metadata": {},
   "outputs": [
    {
     "name": "stdout",
     "output_type": "stream",
     "text": [
      "Epoch 1/80\n",
      "49/49 [==============================] - 1s 4ms/step - loss: 2.7670 - accuracy: 0.2857\n",
      "Epoch 2/80\n",
      "49/49 [==============================] - 0s 1ms/step - loss: 1.9014 - accuracy: 0.6299\n",
      "Epoch 3/80\n",
      "49/49 [==============================] - 0s 979us/step - loss: 1.0994 - accuracy: 0.8065\n",
      "Epoch 4/80\n",
      "49/49 [==============================] - 0s 1000us/step - loss: 0.6412 - accuracy: 0.8948\n",
      "Epoch 5/80\n",
      "49/49 [==============================] - 0s 999us/step - loss: 0.4315 - accuracy: 0.9169\n",
      "Epoch 6/80\n",
      "49/49 [==============================] - 0s 1000us/step - loss: 0.3251 - accuracy: 0.9403\n",
      "Epoch 7/80\n",
      "49/49 [==============================] - 0s 1ms/step - loss: 0.2600 - accuracy: 0.9506\n",
      "Epoch 8/80\n",
      "49/49 [==============================] - 0s 1ms/step - loss: 0.2188 - accuracy: 0.9506\n",
      "Epoch 9/80\n",
      "49/49 [==============================] - 0s 1ms/step - loss: 0.1834 - accuracy: 0.9584\n",
      "Epoch 10/80\n",
      "49/49 [==============================] - 0s 1ms/step - loss: 0.1623 - accuracy: 0.9610\n",
      "Epoch 11/80\n",
      "49/49 [==============================] - 0s 999us/step - loss: 0.1483 - accuracy: 0.9649\n",
      "Epoch 12/80\n",
      "49/49 [==============================] - 0s 979us/step - loss: 0.1311 - accuracy: 0.9669\n",
      "Epoch 13/80\n",
      "49/49 [==============================] - 0s 958us/step - loss: 0.1192 - accuracy: 0.9740\n",
      "Epoch 14/80\n",
      "49/49 [==============================] - 0s 958us/step - loss: 0.1102 - accuracy: 0.9747\n",
      "Epoch 15/80\n",
      "49/49 [==============================] - 0s 1ms/step - loss: 0.1000 - accuracy: 0.9760\n",
      "Epoch 16/80\n",
      "49/49 [==============================] - 0s 1ms/step - loss: 0.0946 - accuracy: 0.9773\n",
      "Epoch 17/80\n",
      "49/49 [==============================] - 0s 1ms/step - loss: 0.0887 - accuracy: 0.9792\n",
      "Epoch 18/80\n",
      "49/49 [==============================] - 0s 1ms/step - loss: 0.0834 - accuracy: 0.9760\n",
      "Epoch 19/80\n",
      "49/49 [==============================] - 0s 999us/step - loss: 0.0784 - accuracy: 0.9805\n",
      "Epoch 20/80\n",
      "49/49 [==============================] - 0s 999us/step - loss: 0.0724 - accuracy: 0.9799\n",
      "Epoch 21/80\n",
      "49/49 [==============================] - 0s 958us/step - loss: 0.0694 - accuracy: 0.9838\n",
      "Epoch 22/80\n",
      "49/49 [==============================] - 0s 958us/step - loss: 0.0648 - accuracy: 0.9844\n",
      "Epoch 23/80\n",
      "49/49 [==============================] - 0s 958us/step - loss: 0.0672 - accuracy: 0.9857\n",
      "Epoch 24/80\n",
      "49/49 [==============================] - 0s 999us/step - loss: 0.0588 - accuracy: 0.9870\n",
      "Epoch 25/80\n",
      "49/49 [==============================] - 0s 999us/step - loss: 0.0565 - accuracy: 0.9857\n",
      "Epoch 26/80\n",
      "49/49 [==============================] - 0s 1ms/step - loss: 0.0533 - accuracy: 0.9870\n",
      "Epoch 27/80\n",
      "49/49 [==============================] - 0s 1ms/step - loss: 0.0519 - accuracy: 0.9883\n",
      "Epoch 28/80\n",
      "49/49 [==============================] - 0s 999us/step - loss: 0.0480 - accuracy: 0.9890\n",
      "Epoch 29/80\n",
      "49/49 [==============================] - 0s 999us/step - loss: 0.0509 - accuracy: 0.9851\n",
      "Epoch 30/80\n",
      "49/49 [==============================] - 0s 999us/step - loss: 0.0457 - accuracy: 0.9903\n",
      "Epoch 31/80\n",
      "49/49 [==============================] - 0s 999us/step - loss: 0.0440 - accuracy: 0.9890\n",
      "Epoch 32/80\n",
      "49/49 [==============================] - 0s 979us/step - loss: 0.0412 - accuracy: 0.9916\n",
      "Epoch 33/80\n",
      "49/49 [==============================] - 0s 999us/step - loss: 0.0391 - accuracy: 0.9903\n",
      "Epoch 34/80\n",
      "49/49 [==============================] - 0s 979us/step - loss: 0.0395 - accuracy: 0.9896\n",
      "Epoch 35/80\n",
      "49/49 [==============================] - 0s 979us/step - loss: 0.0365 - accuracy: 0.9916\n",
      "Epoch 36/80\n",
      "49/49 [==============================] - 0s 1ms/step - loss: 0.0352 - accuracy: 0.9935\n",
      "Epoch 37/80\n",
      "49/49 [==============================] - 0s 958us/step - loss: 0.0338 - accuracy: 0.9935\n",
      "Epoch 38/80\n",
      "49/49 [==============================] - 0s 979us/step - loss: 0.0333 - accuracy: 0.9909\n",
      "Epoch 39/80\n",
      "49/49 [==============================] - 0s 999us/step - loss: 0.0317 - accuracy: 0.9935\n",
      "Epoch 40/80\n",
      "49/49 [==============================] - 0s 999us/step - loss: 0.0318 - accuracy: 0.9909\n",
      "Epoch 41/80\n",
      "49/49 [==============================] - 0s 979us/step - loss: 0.0290 - accuracy: 0.9935\n",
      "Epoch 42/80\n",
      "49/49 [==============================] - 0s 958us/step - loss: 0.0305 - accuracy: 0.9916\n",
      "Epoch 43/80\n",
      "49/49 [==============================] - 0s 979us/step - loss: 0.0284 - accuracy: 0.9935\n",
      "Epoch 44/80\n",
      "49/49 [==============================] - 0s 958us/step - loss: 0.0306 - accuracy: 0.9929\n",
      "Epoch 45/80\n",
      "49/49 [==============================] - 0s 979us/step - loss: 0.0269 - accuracy: 0.9922\n",
      "Epoch 46/80\n",
      "49/49 [==============================] - 0s 979us/step - loss: 0.0262 - accuracy: 0.9935\n",
      "Epoch 47/80\n",
      "49/49 [==============================] - 0s 979us/step - loss: 0.0337 - accuracy: 0.9916\n",
      "Epoch 48/80\n",
      "49/49 [==============================] - 0s 958us/step - loss: 0.0268 - accuracy: 0.9896\n",
      "Epoch 49/80\n",
      "49/49 [==============================] - 0s 1ms/step - loss: 0.0314 - accuracy: 0.9896\n",
      "Epoch 50/80\n",
      "49/49 [==============================] - 0s 999us/step - loss: 0.0263 - accuracy: 0.9922\n",
      "Epoch 51/80\n",
      "49/49 [==============================] - 0s 1ms/step - loss: 0.0217 - accuracy: 0.9955\n",
      "Epoch 52/80\n",
      "49/49 [==============================] - 0s 1ms/step - loss: 0.0228 - accuracy: 0.9961\n",
      "Epoch 53/80\n",
      "49/49 [==============================] - 0s 1ms/step - loss: 0.0264 - accuracy: 0.9922\n",
      "Epoch 54/80\n",
      "49/49 [==============================] - 0s 1ms/step - loss: 0.0212 - accuracy: 0.9935\n",
      "Epoch 55/80\n",
      "49/49 [==============================] - 0s 1ms/step - loss: 0.0240 - accuracy: 0.9935\n",
      "Epoch 56/80\n",
      "49/49 [==============================] - 0s 1ms/step - loss: 0.0232 - accuracy: 0.9916\n",
      "Epoch 57/80\n",
      "49/49 [==============================] - 0s 1ms/step - loss: 0.0209 - accuracy: 0.9916\n",
      "Epoch 58/80\n",
      "49/49 [==============================] - 0s 979us/step - loss: 0.0188 - accuracy: 0.9942\n",
      "Epoch 59/80\n",
      "49/49 [==============================] - 0s 1ms/step - loss: 0.0196 - accuracy: 0.9935\n",
      "Epoch 60/80\n",
      "49/49 [==============================] - 0s 999us/step - loss: 0.0191 - accuracy: 0.9948\n",
      "Epoch 61/80\n",
      "49/49 [==============================] - 0s 979us/step - loss: 0.0220 - accuracy: 0.9909\n",
      "Epoch 62/80\n",
      "49/49 [==============================] - 0s 958us/step - loss: 0.0194 - accuracy: 0.9948\n",
      "Epoch 63/80\n",
      "49/49 [==============================] - 0s 999us/step - loss: 0.0168 - accuracy: 0.9968\n",
      "Epoch 64/80\n",
      "49/49 [==============================] - 0s 979us/step - loss: 0.0161 - accuracy: 0.9968\n",
      "Epoch 65/80\n",
      "49/49 [==============================] - 0s 999us/step - loss: 0.0174 - accuracy: 0.9968\n",
      "Epoch 66/80\n",
      "49/49 [==============================] - 0s 979us/step - loss: 0.0176 - accuracy: 0.9942\n",
      "Epoch 67/80\n",
      "49/49 [==============================] - 0s 979us/step - loss: 0.0166 - accuracy: 0.9948\n",
      "Epoch 68/80\n",
      "49/49 [==============================] - 0s 958us/step - loss: 0.0249 - accuracy: 0.9942\n",
      "Epoch 69/80\n",
      "49/49 [==============================] - 0s 958us/step - loss: 0.0187 - accuracy: 0.9922\n",
      "Epoch 70/80\n",
      "49/49 [==============================] - 0s 999us/step - loss: 0.0164 - accuracy: 0.9961\n",
      "Epoch 71/80\n",
      "49/49 [==============================] - 0s 979us/step - loss: 0.0146 - accuracy: 0.9968\n",
      "Epoch 72/80\n",
      "49/49 [==============================] - 0s 1ms/step - loss: 0.0149 - accuracy: 0.9955\n",
      "Epoch 73/80\n",
      "49/49 [==============================] - 0s 1ms/step - loss: 0.0161 - accuracy: 0.9955\n",
      "Epoch 74/80\n",
      "49/49 [==============================] - 0s 1ms/step - loss: 0.0130 - accuracy: 0.9974\n",
      "Epoch 75/80\n",
      "49/49 [==============================] - 0s 1ms/step - loss: 0.0143 - accuracy: 0.9955\n",
      "Epoch 76/80\n",
      "49/49 [==============================] - 0s 1ms/step - loss: 0.0142 - accuracy: 0.9955\n",
      "Epoch 77/80\n",
      "49/49 [==============================] - 0s 1ms/step - loss: 0.0127 - accuracy: 0.9981\n",
      "Epoch 78/80\n",
      "49/49 [==============================] - 0s 1ms/step - loss: 0.0131 - accuracy: 0.9961\n",
      "Epoch 79/80\n",
      "49/49 [==============================] - 0s 1ms/step - loss: 0.0130 - accuracy: 0.9961\n",
      "Epoch 80/80\n",
      "49/49 [==============================] - 0s 1ms/step - loss: 0.0123 - accuracy: 0.9968\n"
     ]
    }
   ],
   "source": [
    "history = model.fit(X_train, y_train, epochs=80, verbose=1)"
   ]
  },
  {
   "cell_type": "code",
   "execution_count": 12,
   "id": "f9751002",
   "metadata": {},
   "outputs": [
    {
     "name": "stdout",
     "output_type": "stream",
     "text": [
      "21/21 [==============================] - 0s 899us/step\n"
     ]
    }
   ],
   "source": [
    "y_pred = model.predict(X_test)\n",
    "##Converting predictions to label\n",
    "pred = list()\n",
    "for i in range(len(y_pred)):\n",
    "    pred.append(np.argmax(y_pred[i]))\n",
    "##converting one hot encoded test label to label\n",
    "test = list()\n",
    "for i in range(len(y_test)):\n",
    "    test.append(np.argmax(y_test[i]))"
   ]
  },
  {
   "cell_type": "code",
   "execution_count": 13,
   "id": "a64666ba",
   "metadata": {},
   "outputs": [
    {
     "name": "stdout",
     "output_type": "stream",
     "text": [
      "Accuracy is: 99.24242424242425\n"
     ]
    }
   ],
   "source": [
    "from sklearn.metrics import accuracy_score\n",
    "a = accuracy_score(pred,test)\n",
    "print('Accuracy is:', a*100)"
   ]
  },
  {
   "cell_type": "code",
   "execution_count": 14,
   "id": "525d9250",
   "metadata": {},
   "outputs": [
    {
     "name": "stdout",
     "output_type": "stream",
     "text": [
      "Epoch 1/40\n",
      "13/13 [==============================] - 0s 17ms/step - loss: 0.0104 - accuracy: 0.9981 - val_loss: 0.0382 - val_accuracy: 0.9894\n",
      "Epoch 2/40\n",
      "13/13 [==============================] - 0s 4ms/step - loss: 0.0099 - accuracy: 0.9987 - val_loss: 0.0366 - val_accuracy: 0.9894\n",
      "Epoch 3/40\n",
      "13/13 [==============================] - 0s 4ms/step - loss: 0.0094 - accuracy: 0.9987 - val_loss: 0.0359 - val_accuracy: 0.9894\n",
      "Epoch 4/40\n",
      "13/13 [==============================] - 0s 4ms/step - loss: 0.0093 - accuracy: 0.9994 - val_loss: 0.0358 - val_accuracy: 0.9894\n",
      "Epoch 5/40\n",
      "13/13 [==============================] - 0s 3ms/step - loss: 0.0095 - accuracy: 0.9987 - val_loss: 0.0361 - val_accuracy: 0.9894\n",
      "Epoch 6/40\n",
      "13/13 [==============================] - 0s 3ms/step - loss: 0.0098 - accuracy: 0.9987 - val_loss: 0.0340 - val_accuracy: 0.9894\n",
      "Epoch 7/40\n",
      "13/13 [==============================] - 0s 3ms/step - loss: 0.0282 - accuracy: 0.9883 - val_loss: 0.0435 - val_accuracy: 0.9833\n",
      "Epoch 8/40\n",
      "13/13 [==============================] - 0s 3ms/step - loss: 0.0155 - accuracy: 0.9929 - val_loss: 0.0440 - val_accuracy: 0.9864\n",
      "Epoch 9/40\n",
      "13/13 [==============================] - 0s 3ms/step - loss: 0.0125 - accuracy: 0.9955 - val_loss: 0.0370 - val_accuracy: 0.9894\n",
      "Epoch 10/40\n",
      "13/13 [==============================] - 0s 3ms/step - loss: 0.0097 - accuracy: 0.9981 - val_loss: 0.0355 - val_accuracy: 0.9894\n",
      "Epoch 11/40\n",
      "13/13 [==============================] - 0s 3ms/step - loss: 0.0097 - accuracy: 0.9981 - val_loss: 0.0372 - val_accuracy: 0.9894\n",
      "Epoch 12/40\n",
      "13/13 [==============================] - 0s 3ms/step - loss: 0.0091 - accuracy: 0.9987 - val_loss: 0.0358 - val_accuracy: 0.9909\n",
      "Epoch 13/40\n",
      "13/13 [==============================] - 0s 3ms/step - loss: 0.0090 - accuracy: 0.9987 - val_loss: 0.0367 - val_accuracy: 0.9894\n",
      "Epoch 14/40\n",
      "13/13 [==============================] - 0s 3ms/step - loss: 0.0089 - accuracy: 0.9987 - val_loss: 0.0363 - val_accuracy: 0.9894\n",
      "Epoch 15/40\n",
      "13/13 [==============================] - 0s 3ms/step - loss: 0.0091 - accuracy: 0.9987 - val_loss: 0.0363 - val_accuracy: 0.9894\n",
      "Epoch 16/40\n",
      "13/13 [==============================] - 0s 3ms/step - loss: 0.0087 - accuracy: 0.9987 - val_loss: 0.0352 - val_accuracy: 0.9894\n",
      "Epoch 17/40\n",
      "13/13 [==============================] - 0s 3ms/step - loss: 0.0260 - accuracy: 0.9903 - val_loss: 0.0381 - val_accuracy: 0.9909\n",
      "Epoch 18/40\n",
      "13/13 [==============================] - 0s 3ms/step - loss: 0.0105 - accuracy: 0.9981 - val_loss: 0.0384 - val_accuracy: 0.9879\n",
      "Epoch 19/40\n",
      "13/13 [==============================] - 0s 3ms/step - loss: 0.0116 - accuracy: 0.9981 - val_loss: 0.0368 - val_accuracy: 0.9894\n",
      "Epoch 20/40\n",
      "13/13 [==============================] - 0s 3ms/step - loss: 0.0094 - accuracy: 0.9981 - val_loss: 0.0348 - val_accuracy: 0.9894\n",
      "Epoch 21/40\n",
      "13/13 [==============================] - 0s 3ms/step - loss: 0.0088 - accuracy: 0.9981 - val_loss: 0.0354 - val_accuracy: 0.9894\n",
      "Epoch 22/40\n",
      "13/13 [==============================] - 0s 3ms/step - loss: 0.0089 - accuracy: 0.9994 - val_loss: 0.0357 - val_accuracy: 0.9894\n",
      "Epoch 23/40\n",
      "13/13 [==============================] - 0s 3ms/step - loss: 0.0085 - accuracy: 0.9987 - val_loss: 0.0345 - val_accuracy: 0.9894\n",
      "Epoch 24/40\n",
      "13/13 [==============================] - 0s 3ms/step - loss: 0.0085 - accuracy: 0.9987 - val_loss: 0.0358 - val_accuracy: 0.9894\n",
      "Epoch 25/40\n",
      "13/13 [==============================] - 0s 3ms/step - loss: 0.0082 - accuracy: 0.9994 - val_loss: 0.0354 - val_accuracy: 0.9894\n",
      "Epoch 26/40\n",
      "13/13 [==============================] - 0s 4ms/step - loss: 0.0084 - accuracy: 0.9987 - val_loss: 0.0354 - val_accuracy: 0.9894\n",
      "Epoch 27/40\n",
      "13/13 [==============================] - 0s 3ms/step - loss: 0.0083 - accuracy: 0.9994 - val_loss: 0.0359 - val_accuracy: 0.9894\n",
      "Epoch 28/40\n",
      "13/13 [==============================] - 0s 3ms/step - loss: 0.0083 - accuracy: 0.9994 - val_loss: 0.0355 - val_accuracy: 0.9894\n",
      "Epoch 29/40\n",
      "13/13 [==============================] - 0s 3ms/step - loss: 0.0082 - accuracy: 0.9987 - val_loss: 0.0351 - val_accuracy: 0.9894\n",
      "Epoch 30/40\n",
      "13/13 [==============================] - 0s 4ms/step - loss: 0.0081 - accuracy: 0.9994 - val_loss: 0.0370 - val_accuracy: 0.9894\n",
      "Epoch 31/40\n",
      "13/13 [==============================] - 0s 3ms/step - loss: 0.0079 - accuracy: 0.9994 - val_loss: 0.0355 - val_accuracy: 0.9894\n",
      "Epoch 32/40\n",
      "13/13 [==============================] - 0s 3ms/step - loss: 0.0081 - accuracy: 0.9994 - val_loss: 0.0360 - val_accuracy: 0.9894\n",
      "Epoch 33/40\n",
      "13/13 [==============================] - 0s 3ms/step - loss: 0.0079 - accuracy: 0.9994 - val_loss: 0.0368 - val_accuracy: 0.9894\n",
      "Epoch 34/40\n",
      "13/13 [==============================] - 0s 3ms/step - loss: 0.0085 - accuracy: 0.9994 - val_loss: 0.0383 - val_accuracy: 0.9879\n",
      "Epoch 35/40\n",
      "13/13 [==============================] - 0s 3ms/step - loss: 0.0090 - accuracy: 0.9981 - val_loss: 0.0349 - val_accuracy: 0.9909\n",
      "Epoch 36/40\n",
      "13/13 [==============================] - 0s 3ms/step - loss: 0.0079 - accuracy: 0.9994 - val_loss: 0.0374 - val_accuracy: 0.9894\n",
      "Epoch 37/40\n",
      "13/13 [==============================] - 0s 3ms/step - loss: 0.0076 - accuracy: 0.9994 - val_loss: 0.0360 - val_accuracy: 0.9894\n",
      "Epoch 38/40\n",
      "13/13 [==============================] - 0s 3ms/step - loss: 0.0076 - accuracy: 0.9994 - val_loss: 0.0357 - val_accuracy: 0.9894\n",
      "Epoch 39/40\n",
      "13/13 [==============================] - 0s 3ms/step - loss: 0.0075 - accuracy: 0.9994 - val_loss: 0.0362 - val_accuracy: 0.9894\n",
      "Epoch 40/40\n",
      "13/13 [==============================] - 0s 3ms/step - loss: 0.0076 - accuracy: 0.9994 - val_loss: 0.0365 - val_accuracy: 0.9894\n"
     ]
    }
   ],
   "source": [
    "history = model.fit(X_train, y_train,validation_data = (X_test,y_test), epochs=40, batch_size=128)"
   ]
  },
  {
   "cell_type": "code",
   "execution_count": 15,
   "id": "b06d0158",
   "metadata": {},
   "outputs": [
    {
     "data": {
      "image/png": "[encoded data removed]",
      "text/plain": [
       "<Figure size 640x480 with 1 Axes>"
      ]
     },
     "metadata": {},
     "output_type": "display_data"
    }
   ],
   "source": [
    "plt.plot(history.history['loss']), plt.plot(history.history['val_loss']) \n",
    "plt.title('Model loss') \n",
    "plt.ylabel('Loss') \n",
    "plt.xlabel('Epoch') \n",
    "plt.legend(['Train', 'Test'], loc='upper left') \n",
    "plt.show()"
   ]
  },
  {
   "cell_type": "code",
   "execution_count": 16,
   "id": "d9e8bf73",
   "metadata": {},
   "outputs": [
    {
     "data": {
      "image/png": "[encoded data removed]",
      "text/plain": [
       "<Figure size 640x480 with 1 Axes>"
      ]
     },
     "metadata": {},
     "output_type": "display_data"
    }
   ],
   "source": [
    "plt.plot(history.history['accuracy'])\n",
    "plt.plot(history.history['val_accuracy'])\n",
    "plt.title('Model accuracy')\n",
    "plt.ylabel('Accuracy')\n",
    "plt.xlabel('Epoch')\n",
    "plt.legend(['Train', 'Test'], loc='upper left')\n",
    "plt.show()"
   ]
  },
  {
   "cell_type": "code",
   "execution_count": 17,
   "id": "f933c975",
   "metadata": {},
   "outputs": [],
   "source": [
    "from sklearn.model_selection import train_test_split\n",
    "from sklearn.linear_model import LogisticRegression \n",
    "from sklearn.metrics import confusion_matrix, accuracy_score "
   ]
  },
  {
   "cell_type": "code",
   "execution_count": 18,
   "id": "73724e22",
   "metadata": {},
   "outputs": [],
   "source": [
    "# Split the data into training and test sets\n",
    "X=cropsDf.drop(['label'],axis=1)\n",
    "y=cropsDf['label']"
   ]
  },
  {
   "cell_type": "code",
   "execution_count": 19,
   "id": "162dc0b2",
   "metadata": {},
   "outputs": [],
   "source": [
    "from sklearn.model_selection import train_test_split\n",
    "X_train,X_test,y_train,y_test = train_test_split(X,y,test_size = 0.3)"
   ]
  },
  {
   "cell_type": "code",
   "execution_count": 20,
   "id": "2d298182",
   "metadata": {},
   "outputs": [
    {
     "data": {
      "text/plain": [
       "LogisticRegression(multi_class='ovr')"
      ]
     },
     "execution_count": 20,
     "metadata": {},
     "output_type": "execute_result"
    }
   ],
   "source": [
    "import warnings\n",
    "warnings.filterwarnings('ignore')\n",
    "# Train a multiclass logistic regression model\n",
    "clf = LogisticRegression(multi_class=\"ovr\", solver=\"lbfgs\")\n",
    "clf.fit(X_train, y_train)"
   ]
  },
  {
   "cell_type": "code",
   "execution_count": 21,
   "id": "b0da63fe",
   "metadata": {},
   "outputs": [],
   "source": [
    "# Make predictions on the test set\n",
    "y_pred = clf.predict(X_test)"
   ]
  },
  {
   "cell_type": "code",
   "execution_count": 22,
   "id": "c63806de",
   "metadata": {},
   "outputs": [
    {
     "name": "stdout",
     "output_type": "stream",
     "text": [
      "Accuracy:  0.9651515151515152\n"
     ]
    }
   ],
   "source": [
    "accuracy = accuracy_score(y_test, y_pred)\n",
    "print(\"Accuracy: \", accuracy)"
   ]
  },
  {
   "cell_type": "code",
   "execution_count": 23,
   "id": "23c0d787",
   "metadata": {
    "scrolled": true
   },
   "outputs": [
    {
     "name": "stdout",
     "output_type": "stream",
     "text": [
      "Precision Score :  0.9668206688093052\n",
      "Recall Score :  0.9647025500209184\n"
     ]
    }
   ],
   "source": [
    "# Calculate recall\n",
    "from sklearn.metrics import recall_score, f1_score, precision_score\n",
    "print(\"Precision Score : \",precision_score(y_test, y_pred, average='macro'))\n",
    "print(\"Recall Score : \",recall_score(y_test, y_pred, average='macro'))"
   ]
  },
  {
   "cell_type": "code",
   "execution_count": 24,
   "id": "f25a831b",
   "metadata": {},
   "outputs": [
    {
     "name": "stdout",
     "output_type": "stream",
     "text": [
      "F1 Score:  0.9649681174417786\n"
     ]
    }
   ],
   "source": [
    "f1 = f1_score(y_test, y_pred, average='macro')\n",
    "print(\"F1 Score: \", f1)"
   ]
  },
  {
   "cell_type": "code",
   "execution_count": null,
   "id": "24fca1f0",
   "metadata": {},
   "outputs": [],
   "source": []
  }
 ],
 "metadata": {
  "kernelspec": {
   "display_name": "Python 3 (ipykernel)",
   "language": "python",
   "name": "python3"
  },
  "language_info": {
   "codemirror_mode": {
    "name": "ipython",
    "version": 3
   },
   "file_extension": ".py",
   "mimetype": "text/x-python",
   "name": "python",
   "nbconvert_exporter": "python",
   "pygments_lexer": "ipython3",
   "version": "3.9.13"
  }
 },
 "nbformat": 4,
 "nbformat_minor": 5
}
